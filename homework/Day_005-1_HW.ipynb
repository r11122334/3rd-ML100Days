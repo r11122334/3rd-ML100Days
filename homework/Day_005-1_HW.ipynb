{
 "cells": [
  {
   "cell_type": "markdown",
   "metadata": {},
   "source": [
    "# [作業目標]\n",
    "- 利用範例的創建方式, 創建一組資料, 並練習如何取出最大值"
   ]
  },
  {
   "cell_type": "markdown",
   "metadata": {},
   "source": [
    "# [作業重點]\n",
    "- 練習創立 DataFrame (In[2])\n",
    "- 如何取出口數最多的國家 (In[3], Out[3])"
   ]
  },
  {
   "cell_type": "markdown",
   "metadata": {},
   "source": [
    "## 練習時間\n",
    "在小量的資料上，我們用眼睛就可以看得出來程式碼是否有跑出我們理想中的結果\n",
    "\n",
    "請嘗試想像一個你需要的資料結構 (裡面的值可以是隨機的)，然後用上述的方法把它變成 pandas DataFrame\n",
    "\n",
    "#### Ex: 想像一個 dataframe 有兩個欄位，一個是國家，一個是人口，求人口數最多的國家\n",
    "\n",
    "### Hints: [隨機產生數值](https://blog.csdn.net/christianashannon/article/details/78867204)"
   ]
  },
  {
   "cell_type": "code",
   "execution_count": 1,
   "metadata": {},
   "outputs": [],
   "source": [
    "import pandas as pd\n",
    "import numpy as np"
   ]
  },
  {
   "cell_type": "code",
   "execution_count": 5,
   "metadata": {},
   "outputs": [
    {
     "name": "stdout",
     "output_type": "stream",
     "text": [
      "             Population\n",
      "Country                \n",
      "Taiwan         13247199\n",
      "Japan          16423829\n",
      "South Korea    15272040\n",
      "HongKong       16892700\n",
      "Country :  HongKong  ; Population :  16892700\n"
     ]
    }
   ],
   "source": [
    "#定義資料\n",
    "country = [ 'Taiwan' ,  'Japan' , 'South Korea' , 'HongKong' ]\n",
    "population = np.random.randint( low = 10000000 , high = 20000000  , size = 4 )\n",
    "\n",
    "list_label = [ 'Country' , 'Population' ]\n",
    "list_column = [ country , population ]\n",
    "\n",
    "zipp = list( zip( list_label , list_column ) )\n",
    "\n",
    "visitors_3 = pd.DataFrame( dict( zipp ) )\n",
    "\n",
    "#重設index\n",
    "visitors_3.set_index( 'Country' , inplace = True )\n",
    "print( visitors_3 )\n",
    "\n",
    "#利用idxmax()函數印出人口數最多的國家\n",
    "print ( 'Country : ' , visitors_3[ 'Population' ].idxmax() , ' ; Population : ' , visitors_3[ 'Population' ].max() )"
   ]
  },
  {
   "cell_type": "code",
   "execution_count": null,
   "metadata": {
    "collapsed": true
   },
   "outputs": [],
   "source": []
  }
 ],
 "metadata": {
  "kernelspec": {
   "display_name": "Python 3",
   "language": "python",
   "name": "python3"
  },
  "language_info": {
   "codemirror_mode": {
    "name": "ipython",
    "version": 3
   },
   "file_extension": ".py",
   "mimetype": "text/x-python",
   "name": "python",
   "nbconvert_exporter": "python",
   "pygments_lexer": "ipython3",
   "version": "3.7.3"
  }
 },
 "nbformat": 4,
 "nbformat_minor": 2
}
